{
  "nbformat": 4,
  "nbformat_minor": 0,
  "metadata": {
    "colab": {
      "provenance": [],
      "authorship_tag": "ABX9TyPDobOMDduBMIdF0D/t0fKj",
      "include_colab_link": true
    },
    "kernelspec": {
      "name": "python3",
      "display_name": "Python 3"
    },
    "language_info": {
      "name": "python"
    }
  },
  "cells": [
    {
      "cell_type": "markdown",
      "metadata": {
        "id": "view-in-github",
        "colab_type": "text"
      },
      "source": [
        "<a href=\"https://colab.research.google.com/github/greensky0107/self_study/blob/main/Day29_Classification_Random_Forest.ipynb\" target=\"_parent\"><img src=\"https://colab.research.google.com/assets/colab-badge.svg\" alt=\"Open In Colab\"/></a>"
      ]
    },
    {
      "cell_type": "markdown",
      "source": [
        "Random Forest\n",
        "\n",
        "여러개의 decision tree로 구성.\n",
        "\n",
        "Ensemble 방법 중 Bagging 방식 (Bootstrap Aggregating) : 같은 알고리즘으로 여러 모델을 만들어 분류함\n",
        "\n",
        "Bootstrap sampling (dataset 중복 허용)\n",
        "\n",
        "최종 다수결 투표\n",
        "\n",
        "과대적합 가능성 낮음"
      ],
      "metadata": {
        "id": "KQDZKKO3FKHL"
      }
    },
    {
      "cell_type": "code",
      "execution_count": 38,
      "metadata": {
        "id": "YByG6flXFDnE"
      },
      "outputs": [],
      "source": [
        "#Step1 라이브러리 불러오기\n",
        "\n",
        "# Pandas 불러오기\n",
        "import pandas as pd\n",
        "\n",
        "# Numpy 불러오기\n",
        "import numpy as np\n",
        "\n",
        "# Matplotlib 불러오기\n",
        "import matplotlib.pyplot as plt\n",
        "\n",
        "# Seaborn 불러오기\n",
        "import seaborn as sns\n",
        "\n",
        "# 사이킷런 내장데이터 확인\n",
        "import sklearn.datasets\n",
        "sklearn.datasets.__all__  # load로 된 부분이 데이터셋\n",
        "\n",
        "# 데이터 불러오기\n",
        "from sklearn.datasets import load_breast_cancer  # load_데이터 세트\n",
        "\n",
        "# 데이터 분리\n",
        "from sklearn.model_selection import train_test_split\n",
        "\n",
        "# 모델 불러오기\n",
        "# 의사결정나무\n",
        "from sklearn.tree import DecisionTreeClassifier\n",
        "# 랜덤포레스트\n",
        "from sklearn.ensemble import RandomForestClassifier\n",
        "# XGBoost\n",
        "from xgboost import XGBClassifier\n",
        "\n",
        "# 평가\n",
        "# accuracy (정확도)\n",
        "from sklearn.metrics import accuracy_score\n",
        "# precision (정밀도)\n",
        "from sklearn.metrics import precision_score\n",
        "# recall (재현율)\n",
        "from sklearn.metrics import recall_score\n",
        "# f1 (정밀도와 재현율의 조화평균)\n",
        "from sklearn.metrics import f1_score\n",
        "# roc auc (Receiver Operation Chracteristic Curve,  Area Under the Curve)\n",
        "from sklearn.metrics import roc_auc_score"
      ]
    },
    {
      "cell_type": "code",
      "source": [
        "#Step2 Data Split (train vs. test. size 얼마로 할 지 정하기.  50%로 지정)\n",
        "from sklearn.datasets import load_breast_cancer\n",
        "\n",
        "def make_dataset():\n",
        "    cancer = load_breast_cancer()\n",
        "    df = pd.DataFrame(cancer.data, columns=cancer.feature_names)\n",
        "    df['target'] = cancer.target\n",
        "    X_train, X_test, y_train, y_test = train_test_split(\n",
        "        df.drop('target', axis=1), df['target'], test_size=0.5, random_state=1004)\n",
        "    return X_train, X_test, y_train, y_test\n",
        "\n",
        "X_train, X_test, y_train, y_test = make_dataset()\n",
        "X_train.shape, X_test.shape, y_train.shape, y_test.shape"
      ],
      "metadata": {
        "colab": {
          "base_uri": "https://localhost:8080/"
        },
        "id": "zLNjV6ofiUer",
        "outputId": "5b3064eb-9150-4ae0-fa22-7d1e27920812"
      },
      "execution_count": 64,
      "outputs": [
        {
          "output_type": "execute_result",
          "data": {
            "text/plain": [
              "((284, 30), (285, 30), (284,), (285,))"
            ]
          },
          "metadata": {},
          "execution_count": 64
        }
      ]
    },
    {
      "cell_type": "code",
      "source": [
        "#Step3 Target 확인\n",
        "y_train.value_counts()"
      ],
      "metadata": {
        "colab": {
          "base_uri": "https://localhost:8080/",
          "height": 178
        },
        "id": "TGQ0nnF5FPkn",
        "outputId": "c3112f55-96a8-4d6b-aa68-d0b474a0f798"
      },
      "execution_count": 65,
      "outputs": [
        {
          "output_type": "execute_result",
          "data": {
            "text/plain": [
              "target\n",
              "1    190\n",
              "0     94\n",
              "Name: count, dtype: int64"
            ],
            "text/html": [
              "<div>\n",
              "<style scoped>\n",
              "    .dataframe tbody tr th:only-of-type {\n",
              "        vertical-align: middle;\n",
              "    }\n",
              "\n",
              "    .dataframe tbody tr th {\n",
              "        vertical-align: top;\n",
              "    }\n",
              "\n",
              "    .dataframe thead th {\n",
              "        text-align: right;\n",
              "    }\n",
              "</style>\n",
              "<table border=\"1\" class=\"dataframe\">\n",
              "  <thead>\n",
              "    <tr style=\"text-align: right;\">\n",
              "      <th></th>\n",
              "      <th>count</th>\n",
              "    </tr>\n",
              "    <tr>\n",
              "      <th>target</th>\n",
              "      <th></th>\n",
              "    </tr>\n",
              "  </thead>\n",
              "  <tbody>\n",
              "    <tr>\n",
              "      <th>1</th>\n",
              "      <td>190</td>\n",
              "    </tr>\n",
              "    <tr>\n",
              "      <th>0</th>\n",
              "      <td>94</td>\n",
              "    </tr>\n",
              "  </tbody>\n",
              "</table>\n",
              "</div><br><label><b>dtype:</b> int64</label>"
            ]
          },
          "metadata": {},
          "execution_count": 65
        }
      ]
    },
    {
      "cell_type": "code",
      "source": [
        "#Step 4 Random Forest 실행\n",
        "\n",
        "#모델 변수 정의_ dt_clf(의사결정나무) / rf_clf(랜덤포레스트) / lr_clf(로지스틱회귀) 등\n",
        "from sklearn.ensemble import RandomForestClassifier\n",
        "model = RandomForestClassifier(random_state=0)\n",
        "\n",
        "#학습\n",
        "model.fit(X_train, y_train)\n",
        "\n",
        "#예측\n",
        "pred = model.predict(X_test)\n",
        "\n",
        "#평가\n",
        "#Accuracy(정확도)\n",
        "accuracy_score(y_test, pred)\n",
        "\n",
        "#test size 50% 일 때 0.943\n",
        "#test size 30% 일 때 0.941"
      ],
      "metadata": {
        "colab": {
          "base_uri": "https://localhost:8080/"
        },
        "id": "Y6sOYprvFZ1R",
        "outputId": "8f3bc51f-25a7-4fd9-da7b-87b4fa6c531a"
      },
      "execution_count": 73,
      "outputs": [
        {
          "output_type": "execute_result",
          "data": {
            "text/plain": [
              "0.9438596491228071"
            ]
          },
          "metadata": {},
          "execution_count": 73
        }
      ]
    },
    {
      "cell_type": "code",
      "source": [
        "#Step 4 Evaluation\n",
        "\n",
        "#Precision(정밀도)\n",
        "precision_score(y_test, pred)\n",
        "\n",
        "#test size 50% 일 때 0.931\n",
        "#test size 30% 일 때 0.922"
      ],
      "metadata": {
        "colab": {
          "base_uri": "https://localhost:8080/"
        },
        "id": "crzxxuLJPISF",
        "outputId": "a950fa8c-1311-47b4-f86e-773f728ef818"
      },
      "execution_count": 74,
      "outputs": [
        {
          "output_type": "execute_result",
          "data": {
            "text/plain": [
              "0.9314285714285714"
            ]
          },
          "metadata": {},
          "execution_count": 74
        }
      ]
    },
    {
      "cell_type": "code",
      "source": [
        "#Step 4 Evaluation\n",
        "\n",
        "#Recall(재현율)\n",
        "recall_score(y_test, pred)\n",
        "\n",
        "#test size 50% 일 때 0.976\n",
        "#test size 30% 일 때 0.979"
      ],
      "metadata": {
        "colab": {
          "base_uri": "https://localhost:8080/"
        },
        "id": "H8ojgLdCPX3z",
        "outputId": "e81f19f6-98af-49d1-a229-0cf85d837727"
      },
      "execution_count": 75,
      "outputs": [
        {
          "output_type": "execute_result",
          "data": {
            "text/plain": [
              "0.9760479041916168"
            ]
          },
          "metadata": {},
          "execution_count": 75
        }
      ]
    },
    {
      "cell_type": "code",
      "source": [
        "#Step 4 Evaluation\n",
        "\n",
        "# f1 (정밀도와 재현율의 조화평균)\n",
        "f1_score(y_test, pred)\n",
        "\n",
        "#test size 50% 일 때 0.953\n",
        "#test size 30% 일 때 0.95"
      ],
      "metadata": {
        "colab": {
          "base_uri": "https://localhost:8080/"
        },
        "id": "lXcWR0sKPc1w",
        "outputId": "da06f70e-30b2-49f1-e9c8-c8c9c85bd962"
      },
      "execution_count": 76,
      "outputs": [
        {
          "output_type": "execute_result",
          "data": {
            "text/plain": [
              "0.9532163742690059"
            ]
          },
          "metadata": {},
          "execution_count": 76
        }
      ]
    },
    {
      "cell_type": "code",
      "source": [
        "#Step 4 Evaluation\n",
        "\n",
        "# roc_auc\n",
        "model = XGBClassifier(random_state=0, eval_metric='auc')\n",
        "model.fit(X_train, y_train)\n",
        "pred = model.predict_proba(X_test)\n",
        "roc_auc_score(y_test, pred[:,1])\n",
        "print(roc_auc_score(y_test, pred[:,1]))\n",
        "\n",
        "#test size 50% 일 때 0.983\n",
        "#test size 30% 일 때 0.982"
      ],
      "metadata": {
        "colab": {
          "base_uri": "https://localhost:8080/"
        },
        "id": "d69xNmynPgsE",
        "outputId": "6c75eb26-9096-4e89-e5fc-2bcc084f2ee7"
      },
      "execution_count": 77,
      "outputs": [
        {
          "output_type": "stream",
          "name": "stdout",
          "text": [
            "0.9831269664061707\n"
          ]
        }
      ]
    },
    {
      "cell_type": "markdown",
      "source": [
        "Random Forest Hyperparameter\n",
        "\n",
        "n_estimators (기본값 100) : 트리의 수 (voting을 통해서 정함)\n",
        "\n",
        "criterion (기본값 gini) : 불순도 지표\n",
        "\n",
        "max_depth (기본값 None) : 최대 한도 깊이\n",
        "\n",
        "min_samples_split (기본값 2) : 자식 노드를 갖기 위한 최소한의 데이터 수\n",
        "\n",
        "min_samples_leaf (기본값 1) : 리프 노드가 되기 위한 최소 샘플 수"
      ],
      "metadata": {
        "id": "wczZxNkBGhJI"
      }
    },
    {
      "cell_type": "code",
      "source": [
        "#Step 5 Tune Decision Tree Hyperparameter (n_estimator, max depth 조정)\n",
        "\n",
        "from sklearn.ensemble import RandomForestClassifier\n",
        "model = RandomForestClassifier(\n",
        "    n_estimators=500,\n",
        "    criterion='gini',\n",
        "    max_depth=5,\n",
        "    min_samples_split=2,\n",
        "    min_samples_leaf=1,\n",
        "    random_state=0)\n",
        "\n",
        "model.fit(X_train, y_train)\n",
        "pred = model.predict(X_test)\n",
        "accuracy_score(y_test, pred)\n",
        "\n",
        "#test size 50%, max_depth=5, min_samples_split=2, min_sampls_leaf=1 일 때, 0.947 (위의 formula 남겨둠)\n",
        "\n",
        "#test size 30%, max_depth=5, min_samples_split=2, min_sampls_leaf=1 일 때, 0.941 (실습해봐야함)\n",
        "#test size 30%, max_depth=7, min_samples_split=2, min_sampls_leaf=2 일 때, 0.941 (실습해봐야함)\n",
        "#test size 30%, max_depth=10, min_samples_split=5, min_sampls_leaf=5 일 때, 0.941 (실습해봐야함)\n",
        "#test size 30%, max_depth=10, min_samples_split=10, min_sampls_leaf=10 일 때, 0.935 (실흡해봐야함)\n",
        "#test size 30%, max_depth=15, min_samples_split=15, min_sampls_leaf=15 일 때, 0.935 (실습해봐야함)"
      ],
      "metadata": {
        "colab": {
          "base_uri": "https://localhost:8080/"
        },
        "id": "MSOc2OGVGTOD",
        "outputId": "ab4f2693-15ea-45b0-b06e-1a1d3faf2891"
      },
      "execution_count": 72,
      "outputs": [
        {
          "output_type": "execute_result",
          "data": {
            "text/plain": [
              "0.9473684210526315"
            ]
          },
          "metadata": {},
          "execution_count": 72
        }
      ]
    }
  ]
}