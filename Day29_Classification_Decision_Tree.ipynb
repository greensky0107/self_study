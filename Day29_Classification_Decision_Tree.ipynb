{
  "nbformat": 4,
  "nbformat_minor": 0,
  "metadata": {
    "colab": {
      "provenance": [],
      "authorship_tag": "ABX9TyPYXdwJ80uBb/j1rqAT6PhM",
      "include_colab_link": true
    },
    "kernelspec": {
      "name": "python3",
      "display_name": "Python 3"
    },
    "language_info": {
      "name": "python"
    }
  },
  "cells": [
    {
      "cell_type": "markdown",
      "metadata": {
        "id": "view-in-github",
        "colab_type": "text"
      },
      "source": [
        "<a href=\"https://colab.research.google.com/github/greensky0107/self_study/blob/main/Day29_Classification_Decision_Tree.ipynb\" target=\"_parent\"><img src=\"https://colab.research.google.com/assets/colab-badge.svg\" alt=\"Open In Colab\"/></a>"
      ]
    },
    {
      "cell_type": "markdown",
      "source": [
        "Decision Tree\n",
        "\n",
        "지도학습 알고리즘 (분류, 회귀)\n",
        "\n",
        "직관적인 알고리즘 (이해 쉬움)\n",
        "\n",
        "과대적합되기 쉬운 알고리즘 (트리 깊이 제한 필요)\n",
        "\n",
        "트리의 루트(root)에서 시작해서 정보이득이 최대가 되는 특성으로 데이터를 나눔.\n",
        "\n",
        "정보이득(information gain)이 최대가 되는 특성을 나누는 기준(불순도를 측정하는 기준)은 '지니'와 '엔트로피'가 사용됨.\n",
        "\n",
        "데이터가 한 종류만 있다면 엔트로피/지니 불순도는 0에 가깝고, 서로 다른 데이터의 비율이 비슷하면 1에 가까움.\n",
        "\n",
        "정보이득(information gain)이 최대라는 것은 불순도를 최소화 하는 방향(1-불순도)\n",
        "\n",
        "*   Gini계수 사용 시 :  불순도를 최소화하는 방향으로 데이터를 나누어 나감.\n",
        "\n",
        "*   엔트로피 사용 시 :  정보이득을 최대화하는 방향으로 데이터를 나누어 나감.\n"
      ],
      "metadata": {
        "id": "Fvqwf_3KAbMB"
      }
    },
    {
      "cell_type": "code",
      "execution_count": 2,
      "metadata": {
        "id": "a1YYelRv__UW"
      },
      "outputs": [],
      "source": [
        "#Step 1. Library 불러오기\n",
        "\n",
        "# Pandas 불러오기\n",
        "import pandas as pd\n",
        "\n",
        "# Numpy 불러오기\n",
        "import numpy as np\n",
        "\n",
        "# Matplotlib 불러오기\n",
        "import matplotlib.pyplot as plt\n",
        "\n",
        "# Seaborn 불러오기\n",
        "import seaborn as sns\n",
        "\n",
        "# 사이킷런 내장데이터 확인\n",
        "import sklearn.datasets\n",
        "sklearn.datasets.__all__  # load로 된 부분이 데이터셋\n",
        "\n",
        "# 데이터 불러오기\n",
        "from sklearn.datasets import load_breast_cancer  # load_데이터 세트\n",
        "\n",
        "# 데이터 분리\n",
        "from sklearn.model_selection import train_test_split\n",
        "\n",
        "# 모델 불러오기\n",
        "# 의사결정나무\n",
        "from sklearn.tree import DecisionTreeClassifier\n",
        "# 랜덤포레스트\n",
        "from sklearn.ensemble import RandomForestClassifier\n",
        "# XGBoost\n",
        "from xgboost import XGBClassifier\n",
        "\n",
        "# 평가\n",
        "# accuracy (정확도)\n",
        "from sklearn.metrics import accuracy_score\n",
        "# precision (정밀도)\n",
        "from sklearn.metrics import precision_score\n",
        "# recall (재현율)\n",
        "from sklearn.metrics import recall_score\n",
        "# f1 (정밀도와 재현율의 조화평균)\n",
        "from sklearn.metrics import f1_score\n",
        "# roc auc (Receiver Operation Chracteristic Curve,  Area Under the Curve)\n",
        "from sklearn.metrics import roc_auc_score"
      ]
    },
    {
      "cell_type": "code",
      "source": [
        "#Step2 Data Split (train vs. test.  test size를 50%로 지정)\n",
        "\n",
        "from sklearn.datasets import load_breast_cancer\n",
        "\n",
        "def make_dataset():\n",
        "    cancer = load_breast_cancer()\n",
        "    df = pd.DataFrame(cancer.data, columns=cancer.feature_names)\n",
        "    df['target'] = cancer.target\n",
        "    X_train, X_test, y_train, y_test = train_test_split(\n",
        "        df.drop('target', axis=1), df['target'], test_size=0.5, random_state=5000)\n",
        "    return X_train, X_test, y_train, y_test\n",
        "\n",
        "X_train, X_test, y_train, y_test = make_dataset()\n",
        "X_train.shape, X_test.shape, y_train.shape, y_test.shape"
      ],
      "metadata": {
        "colab": {
          "base_uri": "https://localhost:8080/"
        },
        "id": "T0eQBAJ_e46w",
        "outputId": "6ff99f05-83cc-4b99-a0db-4922703820b1"
      },
      "execution_count": 16,
      "outputs": [
        {
          "output_type": "execute_result",
          "data": {
            "text/plain": [
              "((284, 30), (285, 30), (284,), (285,))"
            ]
          },
          "metadata": {},
          "execution_count": 16
        }
      ]
    },
    {
      "cell_type": "code",
      "source": [
        "#Step3 Target 확인\n",
        "y_train.value_counts()"
      ],
      "metadata": {
        "colab": {
          "base_uri": "https://localhost:8080/",
          "height": 178
        },
        "id": "OI1mxCoeAKut",
        "outputId": "a2e80399-e535-4131-8204-7c59b96b1b01"
      },
      "execution_count": 17,
      "outputs": [
        {
          "output_type": "execute_result",
          "data": {
            "text/plain": [
              "target\n",
              "1    170\n",
              "0    114\n",
              "Name: count, dtype: int64"
            ],
            "text/html": [
              "<div>\n",
              "<style scoped>\n",
              "    .dataframe tbody tr th:only-of-type {\n",
              "        vertical-align: middle;\n",
              "    }\n",
              "\n",
              "    .dataframe tbody tr th {\n",
              "        vertical-align: top;\n",
              "    }\n",
              "\n",
              "    .dataframe thead th {\n",
              "        text-align: right;\n",
              "    }\n",
              "</style>\n",
              "<table border=\"1\" class=\"dataframe\">\n",
              "  <thead>\n",
              "    <tr style=\"text-align: right;\">\n",
              "      <th></th>\n",
              "      <th>count</th>\n",
              "    </tr>\n",
              "    <tr>\n",
              "      <th>target</th>\n",
              "      <th></th>\n",
              "    </tr>\n",
              "  </thead>\n",
              "  <tbody>\n",
              "    <tr>\n",
              "      <th>1</th>\n",
              "      <td>170</td>\n",
              "    </tr>\n",
              "    <tr>\n",
              "      <th>0</th>\n",
              "      <td>114</td>\n",
              "    </tr>\n",
              "  </tbody>\n",
              "</table>\n",
              "</div><br><label><b>dtype:</b> int64</label>"
            ]
          },
          "metadata": {},
          "execution_count": 17
        }
      ]
    },
    {
      "cell_type": "code",
      "source": [
        "#Step 4 Decision Tree 실행\n",
        "\n",
        "# 모델 변수 정의_ dt_clf(의사결정나무) / rf_clf(랜덤포레스트) / lr_clf(로지스틱회귀) 등\n",
        "from sklearn.tree import DecisionTreeClassifier\n",
        "model = DecisionTreeClassifier(random_state=0)\n",
        "\n",
        "#학습\n",
        "model.fit(X_train, y_train)\n",
        "\n",
        "#예측\n",
        "pred = model.predict(X_test)\n",
        "\n",
        "#Evaluation\n",
        "#Accuracy(정확도)\n",
        "accuracy_score(y_test, pred)\n",
        "\n",
        "#test size 50% 일 때 0.922    #test size 30% 일때 0.935"
      ],
      "metadata": {
        "colab": {
          "base_uri": "https://localhost:8080/"
        },
        "id": "GqDoAk38BwlS",
        "outputId": "52f0615c-4ab0-49d0-b46e-1bb21a05ca9d"
      },
      "execution_count": 20,
      "outputs": [
        {
          "output_type": "execute_result",
          "data": {
            "text/plain": [
              "0.9228070175438596"
            ]
          },
          "metadata": {},
          "execution_count": 20
        }
      ]
    },
    {
      "cell_type": "code",
      "source": [
        "#Step 4 Evaluation\n",
        "\n",
        "#Precision(정밀도)\n",
        "precision_score(y_test, pred)\n",
        "\n",
        "#test size 50% 일 때 0.931"
      ],
      "metadata": {
        "colab": {
          "base_uri": "https://localhost:8080/"
        },
        "id": "J28t7DH1s8IX",
        "outputId": "bd80edd0-690a-4785-fd2a-1f012a48cd95"
      },
      "execution_count": 21,
      "outputs": [
        {
          "output_type": "execute_result",
          "data": {
            "text/plain": [
              "0.9319371727748691"
            ]
          },
          "metadata": {},
          "execution_count": 21
        }
      ]
    },
    {
      "cell_type": "code",
      "source": [
        "#Step 4 Evaluation\n",
        "\n",
        "#Recall(재현율)\n",
        "recall_score(y_test, pred)\n",
        "\n",
        "#test size 50% 일 때 0.951"
      ],
      "metadata": {
        "colab": {
          "base_uri": "https://localhost:8080/"
        },
        "id": "4e0frgDJtHws",
        "outputId": "fde8a73e-e9f4-4f1c-9908-e0b16e3247a6"
      },
      "execution_count": 22,
      "outputs": [
        {
          "output_type": "execute_result",
          "data": {
            "text/plain": [
              "0.9518716577540107"
            ]
          },
          "metadata": {},
          "execution_count": 22
        }
      ]
    },
    {
      "cell_type": "code",
      "source": [
        "#Step 4 Evaluation\n",
        "\n",
        "# f1 (정밀도와 재현율의 조화평균)\n",
        "f1_score(y_test, pred)\n",
        "\n",
        "#test size 50% 일 때 0.941"
      ],
      "metadata": {
        "colab": {
          "base_uri": "https://localhost:8080/"
        },
        "id": "jPZ-1jTTtO6O",
        "outputId": "35e70694-871d-4105-b1a0-cec4ce0877c1"
      },
      "execution_count": 24,
      "outputs": [
        {
          "output_type": "execute_result",
          "data": {
            "text/plain": [
              "0.9417989417989417"
            ]
          },
          "metadata": {},
          "execution_count": 24
        }
      ]
    },
    {
      "cell_type": "code",
      "source": [
        "#Step 4 Evaluation\n",
        "\n",
        "# roc_auc\n",
        "model = XGBClassifier(random_state=0, eval_metric='auc')\n",
        "model.fit(X_train, y_train)\n",
        "pred = model.predict_proba(X_test)\n",
        "roc_auc_score(y_test, pred[:,1])\n",
        "print(roc_auc_score(y_test, pred[:,1]))\n",
        "\n",
        "#test size 50% 일 때 0.985"
      ],
      "metadata": {
        "colab": {
          "base_uri": "https://localhost:8080/"
        },
        "id": "fmpTByvAtVMC",
        "outputId": "950da50a-8e20-452b-d7aa-726573ee429a"
      },
      "execution_count": 30,
      "outputs": [
        {
          "output_type": "stream",
          "name": "stdout",
          "text": [
            "0.9855669540543491\n"
          ]
        }
      ]
    },
    {
      "cell_type": "markdown",
      "source": [
        "Decision Tree Hyperparameter\n",
        "\n",
        "criterion (기본값 gini) : 불순도 지표 (또는 엔트로피 불순도 entropy)\n",
        "\n",
        "max_depth (기본값 None) : 최대 한도 깊이\n",
        "\n",
        "min_samples_split (기본값 2) : 자식 노드를 갖기 위한 최소한의 데이터 수\n",
        "\n",
        "min_samples_leaf (기본값 1) : 리프 노드가 되기 위한 최소 샘플 수"
      ],
      "metadata": {
        "id": "077sh6PLY5jo"
      }
    },
    {
      "cell_type": "code",
      "source": [
        "#Step 5 Tune Decision Tree Hyperparameter (max depth, minimum sample leaf, minimum sample split 조정) 조정 & Accuracy Score 변화\n",
        "\n",
        "from sklearn.tree import DecisionTreeClassifier\n",
        "model = DecisionTreeClassifier(\n",
        "    criterion = 'entropy',\n",
        "    max_depth = 7,\n",
        "    min_samples_split = 2,\n",
        "    min_samples_leaf=2,\n",
        "    random_state=0)\n",
        "model.fit(X_train, y_train)\n",
        "pred = model.predict(X_test)\n",
        "\n",
        "# 정확도\n",
        "accuracy_score(y_test, pred)\n",
        "\n",
        "#test size 50%, max_depth=7, min_samples_split=2, min_sampls_leaf=2 일 때, 0.943 (위에 formula 남겨둠)\n",
        "\n",
        "#test size 30%, max_depth=7, min_samples_split=2, min_sampls_leaf=2 일 때, 0.888 (실습해봐야함)\n",
        "#test size 30%, max_depth=10, min_samples_split=5, min_sampls_leaf=5 일 때, 0.923 (실습해봐야함)\n",
        "#test size 30%, max_depth=10, min_samples_split=10, min_sampls_leaf=10 일 때, 0.941 (실흡해봐야함)\n",
        "#test size 30%, max_depth=15, min_samples_split=15, min_sampls_leaf=15 일 때, 0.923 (실습해봐야함)"
      ],
      "metadata": {
        "colab": {
          "base_uri": "https://localhost:8080/"
        },
        "id": "1AGOP33iCIum",
        "outputId": "ad5fb8ec-30a5-4a04-abde-f800808d9890"
      },
      "execution_count": 35,
      "outputs": [
        {
          "output_type": "execute_result",
          "data": {
            "text/plain": [
              "0.9438596491228071"
            ]
          },
          "metadata": {},
          "execution_count": 35
        }
      ]
    }
  ]
}