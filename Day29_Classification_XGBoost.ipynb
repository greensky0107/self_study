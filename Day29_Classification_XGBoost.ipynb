{
  "nbformat": 4,
  "nbformat_minor": 0,
  "metadata": {
    "colab": {
      "provenance": [],
      "authorship_tag": "ABX9TyPLlaDYFsmd3NYoQmUdaiJH",
      "include_colab_link": true
    },
    "kernelspec": {
      "name": "python3",
      "display_name": "Python 3"
    },
    "language_info": {
      "name": "python"
    }
  },
  "cells": [
    {
      "cell_type": "markdown",
      "metadata": {
        "id": "view-in-github",
        "colab_type": "text"
      },
      "source": [
        "<a href=\"https://colab.research.google.com/github/greensky0107/self_study/blob/main/Day29_Classification_XGBoost.ipynb\" target=\"_parent\"><img src=\"https://colab.research.google.com/assets/colab-badge.svg\" alt=\"Open In Colab\"/></a>"
      ]
    },
    {
      "cell_type": "markdown",
      "source": [
        "XGBoost\n",
        "\n",
        "Tree Ensemble 중 성능이 좋은 알고리즘\n",
        "\n",
        "eXtreme Gradient Boosting를 줄여서 XGBoost라고 함  (Gradient는 쉽게 기울기로 이야기)\n",
        "\n",
        "\n",
        "약한 학습기가 계속해서 업데이트를 하며 좋은 모델을 만들어 간다.\n",
        "\n",
        "Boosting (Ensemble) 기반의 알고리즘\n",
        "\n",
        "Kaggle (글로벌 AI 경진대회)에서 뛰어난 성능을 보이면서 인기가 높아짐"
      ],
      "metadata": {
        "id": "7ZsY2MWWIUsF"
      }
    },
    {
      "cell_type": "code",
      "source": [
        "#Step 1. Library 불러오기\n",
        "\n",
        "# Pandas 불러오기\n",
        "import pandas as pd\n",
        "\n",
        "# Numpy 불러오기\n",
        "import numpy as np\n",
        "\n",
        "# Matplotlib 불러오기\n",
        "import matplotlib.pyplot as plt\n",
        "\n",
        "# Seaborn 불러오기\n",
        "import seaborn as sns\n",
        "\n",
        "# 사이킷런 내장데이터 확인\n",
        "import sklearn.datasets\n",
        "sklearn.datasets.__all__  # load로 된 부분이 데이터셋\n",
        "\n",
        "# 데이터 불러오기\n",
        "from sklearn.datasets import load_breast_cancer  # load_데이터 세트\n",
        "\n",
        "# 데이터 분리\n",
        "from sklearn.model_selection import train_test_split\n",
        "\n",
        "# 모델 불러오기\n",
        "# 의사결정나무\n",
        "from sklearn.tree import DecisionTreeClassifier\n",
        "# 랜덤포레스트\n",
        "from sklearn.ensemble import RandomForestClassifier\n",
        "# XGBoost\n",
        "from xgboost import XGBClassifier\n",
        "\n",
        "# 평가\n",
        "# accuracy (정확도)\n",
        "from sklearn.metrics import accuracy_score\n",
        "# precision (정밀도)\n",
        "from sklearn.metrics import precision_score\n",
        "# recall (재현율)\n",
        "from sklearn.metrics import recall_score\n",
        "# f1 (정밀도와 재현율의 조화평균)\n",
        "from sklearn.metrics import f1_score\n",
        "# roc auc (Receiver Operation Chracteristic Curve,  Area Under the Curve)\n",
        "from sklearn.metrics import roc_auc_score"
      ],
      "metadata": {
        "id": "XdtnCc-jlOG0"
      },
      "execution_count": 1,
      "outputs": []
    },
    {
      "cell_type": "code",
      "source": [
        "#Step2 Data Split (train vs. test.  size 얼마로 할 지 정하기.  50%로 지정)\n",
        "\n",
        "from sklearn.datasets import load_breast_cancer\n",
        "\n",
        "def make_dataset():\n",
        "    cancer = load_breast_cancer()\n",
        "    df = pd.DataFrame(cancer.data, columns=cancer.feature_names)\n",
        "    df['target'] = cancer.target\n",
        "    X_train, X_test, y_train, y_test = train_test_split(\n",
        "        df.drop('target', axis=1), df['target'], test_size=0.5, random_state=5000)\n",
        "    return X_train, X_test, y_train, y_test\n",
        "\n",
        "X_train, X_test, y_train, y_test = make_dataset()\n",
        "X_train.shape, X_test.shape, y_train.shape, y_test.shape"
      ],
      "metadata": {
        "colab": {
          "base_uri": "https://localhost:8080/"
        },
        "id": "jUhT-fnUlUA5",
        "outputId": "d4f9d0d7-c655-474f-fc7f-12029334dbbb"
      },
      "execution_count": 29,
      "outputs": [
        {
          "output_type": "execute_result",
          "data": {
            "text/plain": [
              "((284, 30), (285, 30), (284,), (285,))"
            ]
          },
          "metadata": {},
          "execution_count": 29
        }
      ]
    },
    {
      "cell_type": "code",
      "source": [
        "#Step3 Target 확인\n",
        "y_train.value_counts()"
      ],
      "metadata": {
        "colab": {
          "base_uri": "https://localhost:8080/",
          "height": 178
        },
        "id": "MoJnse_5JISY",
        "outputId": "fc8ed049-d42e-4896-f018-9a165160ab0e"
      },
      "execution_count": 30,
      "outputs": [
        {
          "output_type": "execute_result",
          "data": {
            "text/plain": [
              "target\n",
              "1    170\n",
              "0    114\n",
              "Name: count, dtype: int64"
            ],
            "text/html": [
              "<div>\n",
              "<style scoped>\n",
              "    .dataframe tbody tr th:only-of-type {\n",
              "        vertical-align: middle;\n",
              "    }\n",
              "\n",
              "    .dataframe tbody tr th {\n",
              "        vertical-align: top;\n",
              "    }\n",
              "\n",
              "    .dataframe thead th {\n",
              "        text-align: right;\n",
              "    }\n",
              "</style>\n",
              "<table border=\"1\" class=\"dataframe\">\n",
              "  <thead>\n",
              "    <tr style=\"text-align: right;\">\n",
              "      <th></th>\n",
              "      <th>count</th>\n",
              "    </tr>\n",
              "    <tr>\n",
              "      <th>target</th>\n",
              "      <th></th>\n",
              "    </tr>\n",
              "  </thead>\n",
              "  <tbody>\n",
              "    <tr>\n",
              "      <th>1</th>\n",
              "      <td>170</td>\n",
              "    </tr>\n",
              "    <tr>\n",
              "      <th>0</th>\n",
              "      <td>114</td>\n",
              "    </tr>\n",
              "  </tbody>\n",
              "</table>\n",
              "</div><br><label><b>dtype:</b> int64</label>"
            ]
          },
          "metadata": {},
          "execution_count": 30
        }
      ]
    },
    {
      "cell_type": "code",
      "source": [
        "#Step 4 XGBoost 실행\n",
        "\n",
        "#모델 변수 정의_ dt_clf(의사결정나무) / rf_clf(랜덤포레스트) / lr_clf(로지스틱회귀) 등\n",
        "from xgboost import XGBClassifier\n",
        "model = XGBClassifier(random_state=0, eval_metric='logloss')\n",
        "\n",
        "#학습\n",
        "model.fit(X_train, y_train)\n",
        "\n",
        "#예측\n",
        "pred = model.predict(X_test)\n",
        "\n",
        "#평가\n",
        "#Accuracy(정확도)\n",
        "accuracy_score(y_test, pred)\n",
        "\n",
        "#test size 50% 일 때 0.933\n",
        "#test size 30% 일 때 0.964"
      ],
      "metadata": {
        "colab": {
          "base_uri": "https://localhost:8080/"
        },
        "id": "y5CH4ld0JJiB",
        "outputId": "63699688-c8f5-4a0a-c37f-143e0a91d499"
      },
      "execution_count": 31,
      "outputs": [
        {
          "output_type": "execute_result",
          "data": {
            "text/plain": [
              "0.9333333333333333"
            ]
          },
          "metadata": {},
          "execution_count": 31
        }
      ]
    },
    {
      "cell_type": "code",
      "source": [
        "#Step 4 Evaluation\n",
        "\n",
        "#Precision(정밀도)\n",
        "precision_score(y_test, pred)\n",
        "\n",
        "#test size 50% 일 때 0.942\n",
        "#test size 30% 일 때 0.966"
      ],
      "metadata": {
        "colab": {
          "base_uri": "https://localhost:8080/"
        },
        "id": "uHqBXMXST8Vi",
        "outputId": "be7d1e8f-d9f4-47f5-d002-7660714359a9"
      },
      "execution_count": 32,
      "outputs": [
        {
          "output_type": "execute_result",
          "data": {
            "text/plain": [
              "0.9421052631578948"
            ]
          },
          "metadata": {},
          "execution_count": 32
        }
      ]
    },
    {
      "cell_type": "code",
      "source": [
        "#Step 4 Evaluation\n",
        "\n",
        "#Recall(재현율)\n",
        "recall_score(y_test, pred)\n",
        "\n",
        "#test size 50% 일 때 0.957\n",
        "#test size 30% 일 때 0.982"
      ],
      "metadata": {
        "colab": {
          "base_uri": "https://localhost:8080/"
        },
        "id": "sW5aVI5GUBe5",
        "outputId": "a230bf0a-502f-455f-8c82-b274ac1ceeab"
      },
      "execution_count": 33,
      "outputs": [
        {
          "output_type": "execute_result",
          "data": {
            "text/plain": [
              "0.9572192513368984"
            ]
          },
          "metadata": {},
          "execution_count": 33
        }
      ]
    },
    {
      "cell_type": "code",
      "source": [
        "#Step 4 Evaluation\n",
        "\n",
        "# f1 (정밀도와 재현율의 조화평균)\n",
        "f1_score(y_test, pred)\n",
        "\n",
        "#test size 50% 일 때 0.949\n",
        "#test size 30% 일 때 0.974"
      ],
      "metadata": {
        "colab": {
          "base_uri": "https://localhost:8080/"
        },
        "id": "7ixt-xoxUGLZ",
        "outputId": "2fe8c651-d3c6-44a8-bd3b-782b6b566d8d"
      },
      "execution_count": 34,
      "outputs": [
        {
          "output_type": "execute_result",
          "data": {
            "text/plain": [
              "0.9496021220159151"
            ]
          },
          "metadata": {},
          "execution_count": 34
        }
      ]
    },
    {
      "cell_type": "code",
      "source": [
        "#Step 4 Evaluation\n",
        "\n",
        "# roc_auc\n",
        "model = XGBClassifier(random_state=0, eval_metric='auc')\n",
        "model.fit(X_train, y_train)\n",
        "pred = model.predict_proba(X_test)\n",
        "roc_auc_score(y_test, pred[:,1])\n",
        "print(roc_auc_score(y_test, pred[:,1]))\n",
        "\n",
        "#test size 50% 일 때 0.985\n",
        "#test size 30% 일 때 0.992"
      ],
      "metadata": {
        "colab": {
          "base_uri": "https://localhost:8080/"
        },
        "id": "5A2nxSdeUMan",
        "outputId": "a5277135-0c43-4a29-8538-4342da0ed847"
      },
      "execution_count": 35,
      "outputs": [
        {
          "output_type": "stream",
          "name": "stdout",
          "text": [
            "0.9855669540543491\n"
          ]
        }
      ]
    },
    {
      "cell_type": "markdown",
      "source": [
        "XGBooster Hyper Parameter 종류\n",
        "\n",
        "booster (기본값 gbtree) : 부스팅 알고리즘 (또는 dart, gblinear)\n",
        "\n",
        "objective (기본값 binary:logistic) : 이진분류 (다중분류: multi:softmax)\n",
        "\n",
        "max_depth (기본값 6) : 최대 한도 깊이\n",
        "\n",
        "learning_rate (기본값 0.1) : 학습률\n",
        "\n",
        "n_estimators (기본값 100) : 트리의 수\n",
        "\n",
        "subsample (기본값 1) : 훈련 샘플 개수의 비율\n",
        "\n",
        "colsample_bytree (기본값 1) : 특성 개수의 비율\n",
        "\n",
        "n_jobs (기본값 1) : 사용 코어 수 (-1: 모든 코어를 다 사용)"
      ],
      "metadata": {
        "id": "2Z3srFchlFOd"
      }
    },
    {
      "cell_type": "code",
      "source": [
        "#Step 5 XGBooster Hyperparameter 조정 (max depth, minimum sample leaf, minimum sample split 조정)\n",
        "\n",
        "model = XGBClassifier(random_state=0, eval_metric='logloss',\n",
        "                      booster = 'gbtree',\n",
        "                      objective = 'binary:logistic',\n",
        "                      max_depth = 5,\n",
        "                      learning_rate = 0.05,\n",
        "                      n_estimators = 500,\n",
        "                      subsample = 1,\n",
        "                      colsample_bytree = 1,\n",
        "                      n_jobs = -1\n",
        "\n",
        "\n",
        "# - booster(기본값 gbtree): 부스팅 알고리즘 (또는 dart, gblinear)\n",
        "# - objective(기본값 binary:logistic): 이진분류 (다중분류: multi:softmax)\n",
        "# - max_depth(기본값 6): 최대 한도 깊이\n",
        "# - learning_rate(기본값 0.1): 학습률\n",
        "# - n_estimators(기본값 100): 트리의 수\n",
        "# - subsample(기본값 1): 훈련 샘플 개수의 비율\n",
        "# - colsample_bytree(기본값 1): 특성 개수의 비율\n",
        "# - n_jobs(기본값 1): 사용 코어 수 (-1: 모든 코어를 다 사용)\n",
        "                     )\n",
        "model.fit(X_train, y_train)\n",
        "pred = model.predict(X_test)\n",
        "accuracy_score(y_test, pred)"
      ],
      "metadata": {
        "colab": {
          "base_uri": "https://localhost:8080/"
        },
        "id": "TOe9w7lAJZVa",
        "outputId": "1928daae-9027-40a6-ebe5-c480af0c4710"
      },
      "execution_count": 36,
      "outputs": [
        {
          "output_type": "execute_result",
          "data": {
            "text/plain": [
              "0.9403508771929825"
            ]
          },
          "metadata": {},
          "execution_count": 36
        }
      ]
    },
    {
      "cell_type": "code",
      "source": [
        "# Early Stopping\n",
        "\n",
        "model = XGBClassifier(random_state=0, eval_metric='logloss',\n",
        "                     learning_rate = 0.05,\n",
        "                      n_estimators = 500,\n",
        "                      early_stopping_rounds=10) # Moved early_stopping_rounds here\n",
        "eval_set = [(X_test, y_test)]\n",
        "model.fit(X_train, y_train, eval_set=eval_set)  # Removed early_stopping_rounds from here\n",
        "pred = model.predict(X_test)\n",
        "accuracy_score(y_test, pred)"
      ],
      "metadata": {
        "colab": {
          "base_uri": "https://localhost:8080/"
        },
        "id": "1JULPJymJqlC",
        "outputId": "2879d4c3-9f13-4350-e70b-68061c432bad"
      },
      "execution_count": 37,
      "outputs": [
        {
          "output_type": "stream",
          "name": "stdout",
          "text": [
            "[0]\tvalidation_0-logloss:0.61671\n",
            "[1]\tvalidation_0-logloss:0.58500\n",
            "[2]\tvalidation_0-logloss:0.55609\n",
            "[3]\tvalidation_0-logloss:0.53010\n",
            "[4]\tvalidation_0-logloss:0.50590\n",
            "[5]\tvalidation_0-logloss:0.48386\n",
            "[6]\tvalidation_0-logloss:0.46380\n",
            "[7]\tvalidation_0-logloss:0.44550\n",
            "[8]\tvalidation_0-logloss:0.42830\n",
            "[9]\tvalidation_0-logloss:0.41250\n",
            "[10]\tvalidation_0-logloss:0.39817\n",
            "[11]\tvalidation_0-logloss:0.38463\n",
            "[12]\tvalidation_0-logloss:0.37075\n",
            "[13]\tvalidation_0-logloss:0.35900\n",
            "[14]\tvalidation_0-logloss:0.34712\n",
            "[15]\tvalidation_0-logloss:0.33639\n",
            "[16]\tvalidation_0-logloss:0.32631\n",
            "[17]\tvalidation_0-logloss:0.31648\n",
            "[18]\tvalidation_0-logloss:0.30781\n",
            "[19]\tvalidation_0-logloss:0.29918\n",
            "[20]\tvalidation_0-logloss:0.29225\n",
            "[21]\tvalidation_0-logloss:0.28449\n",
            "[22]\tvalidation_0-logloss:0.27696\n",
            "[23]\tvalidation_0-logloss:0.27044\n",
            "[24]\tvalidation_0-logloss:0.26435\n",
            "[25]\tvalidation_0-logloss:0.25887\n",
            "[26]\tvalidation_0-logloss:0.25368\n",
            "[27]\tvalidation_0-logloss:0.24854\n",
            "[28]\tvalidation_0-logloss:0.24394\n",
            "[29]\tvalidation_0-logloss:0.23923\n",
            "[30]\tvalidation_0-logloss:0.23487\n",
            "[31]\tvalidation_0-logloss:0.23069\n",
            "[32]\tvalidation_0-logloss:0.22762\n",
            "[33]\tvalidation_0-logloss:0.22434\n",
            "[34]\tvalidation_0-logloss:0.22148\n",
            "[35]\tvalidation_0-logloss:0.21864\n",
            "[36]\tvalidation_0-logloss:0.21508\n",
            "[37]\tvalidation_0-logloss:0.21208\n",
            "[38]\tvalidation_0-logloss:0.20896\n",
            "[39]\tvalidation_0-logloss:0.20606\n",
            "[40]\tvalidation_0-logloss:0.20391\n",
            "[41]\tvalidation_0-logloss:0.20148\n",
            "[42]\tvalidation_0-logloss:0.19904\n",
            "[43]\tvalidation_0-logloss:0.19743\n",
            "[44]\tvalidation_0-logloss:0.19507\n",
            "[45]\tvalidation_0-logloss:0.19407\n",
            "[46]\tvalidation_0-logloss:0.19259\n",
            "[47]\tvalidation_0-logloss:0.19065\n",
            "[48]\tvalidation_0-logloss:0.18859\n",
            "[49]\tvalidation_0-logloss:0.18681\n",
            "[50]\tvalidation_0-logloss:0.18516\n",
            "[51]\tvalidation_0-logloss:0.18450\n",
            "[52]\tvalidation_0-logloss:0.18307\n",
            "[53]\tvalidation_0-logloss:0.18173\n",
            "[54]\tvalidation_0-logloss:0.18117\n",
            "[55]\tvalidation_0-logloss:0.17999\n",
            "[56]\tvalidation_0-logloss:0.17883\n",
            "[57]\tvalidation_0-logloss:0.17841\n",
            "[58]\tvalidation_0-logloss:0.17761\n",
            "[59]\tvalidation_0-logloss:0.17687\n",
            "[60]\tvalidation_0-logloss:0.17604\n",
            "[61]\tvalidation_0-logloss:0.17541\n",
            "[62]\tvalidation_0-logloss:0.17517\n",
            "[63]\tvalidation_0-logloss:0.17470\n",
            "[64]\tvalidation_0-logloss:0.17406\n",
            "[65]\tvalidation_0-logloss:0.17261\n",
            "[66]\tvalidation_0-logloss:0.17215\n",
            "[67]\tvalidation_0-logloss:0.17183\n",
            "[68]\tvalidation_0-logloss:0.17129\n",
            "[69]\tvalidation_0-logloss:0.17103\n",
            "[70]\tvalidation_0-logloss:0.16966\n",
            "[71]\tvalidation_0-logloss:0.16940\n",
            "[72]\tvalidation_0-logloss:0.16822\n",
            "[73]\tvalidation_0-logloss:0.16766\n",
            "[74]\tvalidation_0-logloss:0.16736\n",
            "[75]\tvalidation_0-logloss:0.16631\n",
            "[76]\tvalidation_0-logloss:0.16516\n",
            "[77]\tvalidation_0-logloss:0.16472\n",
            "[78]\tvalidation_0-logloss:0.16472\n",
            "[79]\tvalidation_0-logloss:0.16366\n",
            "[80]\tvalidation_0-logloss:0.16340\n",
            "[81]\tvalidation_0-logloss:0.16324\n",
            "[82]\tvalidation_0-logloss:0.16251\n",
            "[83]\tvalidation_0-logloss:0.16240\n",
            "[84]\tvalidation_0-logloss:0.16147\n",
            "[85]\tvalidation_0-logloss:0.16127\n",
            "[86]\tvalidation_0-logloss:0.16137\n",
            "[87]\tvalidation_0-logloss:0.16158\n",
            "[88]\tvalidation_0-logloss:0.16088\n",
            "[89]\tvalidation_0-logloss:0.16004\n",
            "[90]\tvalidation_0-logloss:0.15999\n",
            "[91]\tvalidation_0-logloss:0.15999\n",
            "[92]\tvalidation_0-logloss:0.16002\n",
            "[93]\tvalidation_0-logloss:0.15925\n",
            "[94]\tvalidation_0-logloss:0.15864\n",
            "[95]\tvalidation_0-logloss:0.15883\n",
            "[96]\tvalidation_0-logloss:0.15928\n",
            "[97]\tvalidation_0-logloss:0.15873\n",
            "[98]\tvalidation_0-logloss:0.15905\n",
            "[99]\tvalidation_0-logloss:0.15849\n",
            "[100]\tvalidation_0-logloss:0.15871\n",
            "[101]\tvalidation_0-logloss:0.15808\n",
            "[102]\tvalidation_0-logloss:0.15855\n",
            "[103]\tvalidation_0-logloss:0.15865\n",
            "[104]\tvalidation_0-logloss:0.15780\n",
            "[105]\tvalidation_0-logloss:0.15805\n",
            "[106]\tvalidation_0-logloss:0.15848\n",
            "[107]\tvalidation_0-logloss:0.15861\n",
            "[108]\tvalidation_0-logloss:0.15814\n",
            "[109]\tvalidation_0-logloss:0.15825\n",
            "[110]\tvalidation_0-logloss:0.15749\n",
            "[111]\tvalidation_0-logloss:0.15784\n",
            "[112]\tvalidation_0-logloss:0.15818\n",
            "[113]\tvalidation_0-logloss:0.15786\n",
            "[114]\tvalidation_0-logloss:0.15714\n",
            "[115]\tvalidation_0-logloss:0.15742\n",
            "[116]\tvalidation_0-logloss:0.15777\n",
            "[117]\tvalidation_0-logloss:0.15814\n",
            "[118]\tvalidation_0-logloss:0.15787\n",
            "[119]\tvalidation_0-logloss:0.15719\n",
            "[120]\tvalidation_0-logloss:0.15753\n",
            "[121]\tvalidation_0-logloss:0.15790\n",
            "[122]\tvalidation_0-logloss:0.15748\n",
            "[123]\tvalidation_0-logloss:0.15721\n",
            "[124]\tvalidation_0-logloss:0.15747\n"
          ]
        },
        {
          "output_type": "execute_result",
          "data": {
            "text/plain": [
              "0.9333333333333333"
            ]
          },
          "metadata": {},
          "execution_count": 37
        }
      ]
    }
  ]
}